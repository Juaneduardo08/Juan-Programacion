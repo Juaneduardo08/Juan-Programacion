{
 "cells": [
  {
   "cell_type": "markdown",
   "metadata": {},
   "source": [
    "# Reto Bootcamp STEAM 🔬💻🎨: Explorando Datos de Pacientes\n",
    "## Fundamentos de Python | UMCA\n",
    "## Profesor: Ing. Andrés Mena Abarca\n",
    "### <mark>**Nombre del estudiante:* Juan Araya*</mark>\n",
    "* * *"
   ]
  },
  {
   "attachments": {},
   "cell_type": "markdown",
   "metadata": {},
   "source": [
    "## Misión: Científico de Datos Clínicos\n",
    "\n",
    "¡Bienvenidos al reto STEAM! Nuestra misión hoy es construir un sistema de análisis de datos para una clínica, subiendo el nivel de dificultad paso a paso.\n",
    "\n",
    "Comenzaremos con la práctica esencial de **ciclos y listas** y progresaremos hasta el manejo de estructuras de datos complejas (JSON y diccionarios). Si la base es sólida, ¡el análisis avanzado será fácil!\n",
    "\n",
    "### Objetivos de Programación:\n",
    "1. Dominar el uso del ciclo `for` con listas básicas.\n",
    "2. Comprender y cargar el formato **JSON** en Python.\n",
    "3. Implementar **bucles anidados** para datos complejos.\n",
    "4. Aplicar lógica condicional (`if`) y manejo de listas (`.append()`, `.index()`) en todos los niveles."
   ]
  },
  {
   "cell_type": "markdown",
   "metadata": {},
   "source": [
    "--- \n",
    "## FASE 1: Fundamentos de Ciclos y Listas (Nivel Básico) 👶\n",
    "\n",
    "Antes de trabajar con la base de datos completa, vamos a practicar con una simple lista de provincias. Recuerda que un ciclo `for` es una de las herramientas más poderosas de Python."
   ]
  },
  {
   "cell_type": "code",
   "execution_count": 2,
   "metadata": {
    "language": "python"
   },
   "outputs": [],
   "source": [
    "# Datos simples para empezar a practicar ciclos\n",
    "provincias_visitas = [\"San Jose\", \"Heredia\", \"Alajuela\", \"San Jose\", \"Cartago\", \"Heredia\", \"San Jose\", \"Puntarenas\"]\n"
   ]
  },
  {
   "cell_type": "markdown",
   "metadata": {},
   "source": [
    "### Desafío 1.A: Mostrar el Recorrido (Ciclo Simple)\n",
    "\n",
    "**Instrucción:** Usa un ciclo `for` para recorrer la lista `provincias_visitas` e imprime un mensaje por cada provincia.\n",
    "\n",
    "**Salida Esperada (parcial):**\n",
    "```\n",
    "Analizando visita en San Jose\n",
    "Analizando visita en Heredia\n",
    "..."
   ]
  },
  {
   "cell_type": "code",
   "execution_count": 3,
   "metadata": {},
   "outputs": [
    {
     "name": "stdout",
     "output_type": "stream",
     "text": [
      "Analizando visita en San Jose\n",
      "Analizando visita en Heredia\n",
      "Analizando visita en Alajuela\n",
      "Analizando visita en San Jose\n",
      "Analizando visita en Cartago\n",
      "Analizando visita en Heredia\n",
      "Analizando visita en San Jose\n",
      "Analizando visita en Puntarenas\n"
     ]
    }
   ],
   "source": [
    "for provincia in provincias_visitas:\n",
    "    print (f'Analizando visita en { provincia}')"
   ]
  },
  {
   "cell_type": "code",
   "execution_count": 4,
   "metadata": {},
   "outputs": [
    {
     "name": "stdout",
     "output_type": "stream",
     "text": [
      "Analizando visitas en San Jose\n",
      "Analizando visitas en Heredia\n",
      "Analizando visitas en Alajuela\n",
      "Analizando visitas en San Jose\n",
      "Analizando visitas en Cartago\n",
      "Analizando visitas en Heredia\n",
      "Analizando visitas en San Jose\n",
      "Analizando visitas en Puntarenas\n"
     ]
    }
   ],
   "source": [
    "# Escribe tu código aquí para el Desafío 1.A\n",
    "for provincia in provincias_visitas:\n",
    "    print (f'Analizando visitas en {provincia}')"
   ]
  },
  {
   "cell_type": "markdown",
   "metadata": {},
   "source": [
    "### Desafío 1.B: Conteo con Condicionales (Ciclo + IF)\n",
    "\n",
    "**Instrucción:** Crea una variable `conteo_san_jose` e inicialízala en cero. Usa el ciclo `for` para recorrer la lista y un condicional `if` para incrementar el contador solo cuando la provincia sea \"San Jose\".\n",
    "\n",
    "**Salida Esperada:**\n",
    "```\n",
    "El número total de visitas en San Jose es: 3\n",
    "```"
   ]
  },
  {
   "cell_type": "code",
   "execution_count": 5,
   "metadata": {},
   "outputs": [
    {
     "name": "stdout",
     "output_type": "stream",
     "text": [
      "El numero total de visitas a San Jose es : 3\n"
     ]
    }
   ],
   "source": [
    "# Escribe tu código aquí para el Desafío 1.B\n",
    "conteo_san_Jose = 0\n",
    "for provincia  in provincias_visitas:\n",
    "    if provincia == 'San Jose':\n",
    "        conteo_san_Jose +=1\n",
    "\n",
    "print(f'El numero total de visitas a San Jose es : {conteo_san_Jose}')\n"
   ]
  },
  {
   "cell_type": "markdown",
   "metadata": {},
   "source": [
    "--- \n",
    "## FASE 2: Estructuras Avanzadas (JSON y Diccionarios) 🎓\n",
    "\n",
    "Ahora que dominas los ciclos básicos, vamos a subir al nivel de datos profesionales. Nuestra base de datos está en formato **JSON**.\n",
    "\n",
    "**Recordatorio:** En Python, los objetos JSON se convierten en **Diccionarios** (`{}`) y son la clave para el análisis moderno.\n",
    "**Acceso a datos:** Usarás `paciente['clave']`."
   ]
  },
  {
   "cell_type": "code",
   "execution_count": 6,
   "metadata": {
    "language": "python"
   },
   "outputs": [
    {
     "name": "stdout",
     "output_type": "stream",
     "text": [
      "Archivo cargado exitosamente total de registros: 15\n",
      "\n",
      "Estructura de datos pacientes: \n",
      "{'cedula': 89076541, 'nombre': 'Ana Gómez', 'edad': 34, 'genero': 'F', 'provincia': 'Heredia', 'canton': 'Barva', 'enfermedades': ['migraña', 'gripe'], 'medicamentos': ['acetaminofen', 'ibuprofeno']}\n"
     ]
    }
   ],
   "source": [
    "import json\n",
    "\n",
    "# ¡Asegúrate de tener el archivo 'datos_clinica.json' en la misma carpeta!\n",
    "nombre_archivo = 'datos_clinica.json' \n",
    "datos_pacientes = []\n",
    "\n",
    "try:\n",
    "    #CODIGO LEER ARCHIVO\n",
    "    with open(nombre_archivo,'r',encoding='utf-8') as f:\n",
    "        datos_pacientes = json.load(f)\n",
    "\n",
    "    print(f'Archivo cargado exitosamente total de registros: {len(datos_pacientes)}')\n",
    "    print('\\nEstructura de datos pacientes: ')\n",
    "    print(datos_pacientes[0])\n",
    "    \n",
    "except FileNotFoundError:\n",
    "    print(f\"❌ Error: No se encontró el archivo '{nombre_archivo}'. ¡No puedes continuar!\")\n",
    "except Exception as e:\n",
    "    print(f\"❌ Ocurrió un error al leer el archivo: {e}\")"
   ]
  },
  {
   "cell_type": "code",
   "execution_count": 7,
   "metadata": {},
   "outputs": [
    {
     "name": "stdout",
     "output_type": "stream",
     "text": [
      "El Paciente: Ana Gómez, Edad: 34\n",
      "El Paciente: Luis Mora, Edad: 45\n",
      "El Paciente: Sofía Salas, Edad: 29\n"
     ]
    }
   ],
   "source": [
    "for paciente in datos_pacientes[:3] :\n",
    "    nombre = paciente['nombre']\n",
    "    edad = paciente['edad']\n",
    "    print(f'El Paciente: {nombre}, Edad: {edad}')\n"
   ]
  },
  {
   "cell_type": "markdown",
   "metadata": {},
   "source": []
  },
  {
   "cell_type": "code",
   "execution_count": 8,
   "metadata": {},
   "outputs": [
    {
     "name": "stdout",
     "output_type": "stream",
     "text": [
      "La Paciente: Ana Gómez, Edad: 34 \n",
      "El Paciente: Luis Mora, Edad: 45\n",
      "La Paciente: Sofía Salas, Edad: 29 \n",
      "El Paciente: Carlos Rojas, Edad: 50\n",
      "La Paciente: Elena Castro, Edad: 62 \n",
      "El Paciente: David Solano, Edad: 38\n",
      "La Paciente: Laura Méndez, Edad: 55 \n",
      "El Paciente: Miguel Pérez, Edad: 22\n",
      "La Paciente: Carmen Ruiz, Edad: 48 \n",
      "El Paciente: Jorge Alfaro, Edad: 70\n",
      "La Paciente: Isabel Solís, Edad: 31 \n",
      "El Paciente: Roberto Arias, Edad: 65\n",
      "La Paciente: Patricia Mora, Edad: 28 \n",
      "El Paciente: Andrés Vargas, Edad: 42\n",
      "La Paciente: Gabriela Soto, Edad: 59 \n"
     ]
    }
   ],
   "source": [
    "# Escribe tu código aquí para el Desafío 2.A\n",
    "for paciente in datos_pacientes :\n",
    "    nombre = paciente['nombre']\n",
    "    edad = paciente['edad']\n",
    "    genero = paciente['genero']\n",
    "    if genero =='M':\n",
    "        print(f'El Paciente: {nombre}, Edad: {edad}')\n",
    "    else:\n",
    "        print(f'La Paciente: {nombre}, Edad: {edad} ')\n"
   ]
  },
  {
   "cell_type": "markdown",
   "metadata": {},
   "source": [
    "--- \n",
    "## FASE 3: Análisis de Frecuencias (Bucles Anidados) 🔬\n",
    "\n",
    "¡Nivel intermedio! Ahora debes usar tus conocimientos de ciclos y condicionales para contar elementos. La complejidad es que tienes una **Lista de enfermedades dentro de un Diccionario**.\n",
    "\n",
    "**El reto es:** Usar un ciclo `for` para pacientes, y otro ciclo `for` **anidado** para las enfermedades."
   ]
  },
  {
   "attachments": {},
   "cell_type": "markdown",
   "metadata": {
    "language": "python"
   },
   "source": [
    "### Desafío 3.A: Reporte de Enfermedades Tratadas (Doble Ciclo)\n",
    "\n",
    "**Instrucciones:**\n",
    "1. Crea una lista vacía para enfermedades (`lista_enfermedades`) y otra para las cantidades (`lista_cantidades`).\n",
    "2. Usa un ciclo `for` para recorrer cada `paciente`.\n",
    "3. Usa un ciclo `for` **anidado** para recorrer la lista `paciente['enfermedades']`.\n",
    "4. Dentro del ciclo anidado, aplica la lógica de conteo (`if...in`, `.index()`, `+= 1`)."
   ]
  },
  {
   "cell_type": "code",
   "execution_count": 9,
   "metadata": {
    "language": "python"
   },
   "outputs": [
    {
     "name": "stdout",
     "output_type": "stream",
     "text": [
      "['migraña', 'gripe', 'gastritis', 'tos cronica', 'alergia', 'hipertension', 'dolor cronico', 'diabetes tipo 2', 'artritis', 'asma', 'colesterol alto', 'ansiedad']\n",
      "[3, 2, 2, 1, 2, 3, 1, 2, 2, 2, 2, 1]\n",
      "\n",
      "=== Reporte de frecuencia de enfermedades ===\n",
      "-> Migraña : 3 pacientes\n",
      "-> Gripe : 2 pacientes\n",
      "-> Gastritis : 2 pacientes\n",
      "-> Tos Cronica : 1 pacientes\n",
      "-> Alergia : 2 pacientes\n",
      "-> Hipertension : 3 pacientes\n",
      "-> Dolor Cronico : 1 pacientes\n",
      "-> Diabetes Tipo 2 : 2 pacientes\n",
      "-> Artritis : 2 pacientes\n",
      "-> Asma : 2 pacientes\n",
      "-> Colesterol Alto : 2 pacientes\n",
      "-> Ansiedad : 1 pacientes\n"
     ]
    }
   ],
   "source": [
    "# Escribe tu código aquí para el Desafío 3.A\n",
    "lista_enfermedades = []\n",
    "lista_cantidades = []\n",
    "for paciente in datos_pacientes:\n",
    "    #print(paciente['enfermedades'])\n",
    "    \n",
    "    for enfermedad in paciente['enfermedades']:\n",
    "        if enfermedad in lista_enfermedades:\n",
    "            indice =lista_enfermedades.index(enfermedad)\n",
    "            lista_cantidades[indice] += 1\n",
    "        else:\n",
    "            lista_enfermedades.append(enfermedad)\n",
    "            lista_cantidades.append(1)\n",
    "\n",
    "print(lista_enfermedades)\n",
    "print(lista_cantidades)\n",
    "\n",
    "print('\\n=== Reporte de frecuencia de enfermedades ===')\n",
    "for i in range(len(lista_enfermedades)):\n",
    "    print(f'-> {lista_enfermedades[i].title()} : { lista_cantidades[i]} pacientes')"
   ]
  },
  {
   "attachments": {},
   "cell_type": "markdown",
   "metadata": {
    "language": "python"
   },
   "source": [
    "### Desafío 3.B: Reporte de Medicamentos Recetados\n",
    "\n",
    "Repite la lógica del Desafío 3.A, pero esta vez analizando la clave `'medicamentos'`."
   ]
  },
  {
   "cell_type": "code",
   "execution_count": 10,
   "metadata": {
    "language": "python"
   },
   "outputs": [
    {
     "name": "stdout",
     "output_type": "stream",
     "text": [
      "\n",
      "=== Reporte de frecuencia de medicamentos recetados ===\n",
      "-> Acetaminofen : 4 pacientes\n",
      "-> Ibuprofeno : 3 pacientes\n",
      "-> Antiacido : 1 pacientes\n",
      "-> Omeprazol : 2 pacientes\n",
      "-> Jarabe : 1 pacientes\n",
      "-> Loratadina : 2 pacientes\n",
      "-> Losartan : 3 pacientes\n",
      "-> Tramadol : 1 pacientes\n",
      "-> Insulina : 1 pacientes\n",
      "-> Metformina : 2 pacientes\n",
      "-> Salbutamol : 2 pacientes\n",
      "-> Atorvastatina : 2 pacientes\n",
      "-> Fluoxetina : 1 pacientes\n"
     ]
    }
   ],
   "source": [
    "# Escribe tu código aquí para el Desafío 3.B\n",
    "# 1. Crear listas vacías\n",
    "lista_medicamentos = []\n",
    "lista_cant_medicamentos = []\n",
    "\n",
    "# 2. Recorrer cada paciente\n",
    "for paciente in datos_pacientes:\n",
    "    # 3. Recorrer cada medicamento recetado\n",
    "    for medicamento in paciente['medicamentos']:\n",
    "        # 4. Lógica de conteo (igual que en 3.A)\n",
    "        if medicamento in lista_medicamentos:\n",
    "            indice = lista_medicamentos.index(medicamento)\n",
    "            lista_cant_medicamentos[indice] += 1\n",
    "        else:\n",
    "            lista_medicamentos.append(medicamento)\n",
    "            lista_cant_medicamentos.append(1)\n",
    "\n",
    "# 5. Mostrar el reporte\n",
    "print('\\n=== Reporte de frecuencia de medicamentos recetados ===')\n",
    "for i in range(len(lista_medicamentos)):\n",
    "    print(f'-> {lista_medicamentos[i].title()} : {lista_cant_medicamentos[i]} pacientes')"
   ]
  },
  {
   "cell_type": "markdown",
   "metadata": {},
   "source": [
    "--- \n",
    "## FASE 4: Ingeniería de Datos - Comparación de Historias ⚙️\n",
    "\n",
    "¡Nivel Avanzado! Vas a simular una herramienta de comparación de historiales. Debes buscar dos pacientes por cédula y encontrar qué tienen en común."
   ]
  },
  {
   "attachments": {},
   "cell_type": "markdown",
   "metadata": {
    "language": "python"
   },
   "source": [
    "### Desafío 4.A: Elementos en Común\n",
    "\n",
    "**Instrucciones:**\n",
    "1. Pide la cédula (clave `'cedula'`) de dos pacientes.\n",
    "2. **Recorre la lista principal** (`datos_pacientes`) para encontrar los diccionarios de ambos pacientes y asigna sus listas de `'enfermedades'` y `'medicamentos'` a variables temporales.\n",
    "3. Usa bucles `for` y `if...in` para encontrar y mostrar los elementos que se repiten en las listas de ambos pacientes.\n",
    "\n",
    "**Prueba con:**\n",
    "```\n",
    "Cédula 1: 89076541\n",
    "Cédula 2: 45522221\n",
    "Resultado Esperado: Enfermedades en común: ['migraña'], Medicamentos en común: ['acetaminofen']\n",
    "```"
   ]
  },
  {
   "cell_type": "code",
   "execution_count": 11,
   "metadata": {
    "language": "python",
    "tags": []
   },
   "outputs": [
    {
     "name": "stdout",
     "output_type": "stream",
     "text": [
      "['migraña']\n"
     ]
    }
   ],
   "source": [
    "# Escribe tu código aquí para el Desafío 4.A\n",
    "cedula1 = int(input('Ingrese la cedula del primer paciente ejemplo 89076541:'))\n",
    "cedula2 = int(input('Ingrese la cedula del segundo paciente ejemplo 45522221:'))\n",
    "\n",
    "\n",
    "enfermedades_p1 = []\n",
    "medicamentos_p1 = []\n",
    "enfermedades_p2 = []\n",
    "medicamentos_p2 = []\n",
    "\n",
    "\n",
    "for paciente in datos_pacientes:\n",
    "    if paciente['cedula'] ==cedula1:\n",
    "        enfermedades_p1 = paciente['enfermedades']\n",
    "        medicamentos_p1 = paciente['medicamentos']\n",
    "    elif paciente['cedula'] == cedula2:\n",
    "        enfermedades_p2 = paciente ['enfermedades']\n",
    "        medicamentos_p2 = paciente ['medicamentos']\n",
    "\n",
    "#logica de comparacion\n",
    "enfermedades_comunes = []\n",
    "for enfermedad in enfermedades_p1:\n",
    "    if enfermedad in enfermedades_p2 and enfermedad not in enfermedades_comunes:\n",
    "        enfermedades_comunes.append(enfermedad)\n",
    "\n",
    "print(enfermedades_comunes)\n"
   ]
  },
  {
   "attachments": {},
   "cell_type": "markdown",
   "metadata": {
    "language": "python"
   },
   "source": [
    "## Desafío Final: Arte y Matemáticas - Reflexión 🎨📊\n",
    "\n",
    "Has analizado con éxito datos complejos. Es momento de reflexionar:\n",
    "\n",
    "### Preguntas de Reflexión:\n",
    "\n",
    "- ¿Qué diferencia notaste entre trabajar con la lista simple (Fase 1) y los diccionarios (Fase 3)?\n",
    "- ¿Qué patrón de salud general sugiere la enfermedad más frecuente?\n",
    "- Si pudieras hacer este reto con una herramienta más avanzada, ¿qué otra variable analizarías (por ejemplo: Edad promedio de pacientes con Hipertensión)?"
   ]
  }
 ],
 "metadata": {
  "kernelspec": {
   "display_name": "Python 3",
   "language": "python",
   "name": "python3"
  },
  "language_info": {
   "codemirror_mode": {
    "name": "ipython",
    "version": 3
   },
   "file_extension": ".py",
   "mimetype": "text/x-python",
   "name": "python",
   "nbconvert_exporter": "python",
   "pygments_lexer": "ipython3",
   "version": "3.13.7"
  }
 },
 "nbformat": 4,
 "nbformat_minor": 2
}
