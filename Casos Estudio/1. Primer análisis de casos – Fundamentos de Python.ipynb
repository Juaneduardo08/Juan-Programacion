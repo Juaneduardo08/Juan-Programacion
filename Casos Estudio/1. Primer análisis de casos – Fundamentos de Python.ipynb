{
 "cells": [
  {
   "cell_type": "markdown",
   "metadata": {
    "id": "q7R3dARlFtDY"
   },
   "source": [
    "# Primer análisis de casos – Fundamentos de Python\n",
    "\n",
    "## Objetivo:\n",
    "En esta tarea, practicaremos los fundamentos básicos de Python resolviendo **cuatro ejercicios** de la lista planteada. Cada solución debe detallar **entradas**, **procesos** y **salidas** para comprender mejor cómo funciona cada problema.\n",
    "\n",
    "### Formato para cada ejercicio (seleccionemos 4 ejercicios):\n",
    "#### Ejercicio X:\n",
    "- **Descripción del problema:** Incluiremos el enunciado del ejercicio.\n",
    "- **Entradas:** Detallaremos los datos que debemos ingresar.\n",
    "- **Proceso:** Explicaremos cómo resolveremos el problema (algoritmo o fórmula).\n",
    "- **Salidas:** Describiremos el resultado que veremos en pantalla al final del proceso.\n",
    "\n",
    "#### Código del ejercicio:\n",
    "- Escribiremos la solución del ejercicio en una celda de código Python.\n",
    "- Agregaremos comentarios para explicar el código y hacerlo más comprensible.\n",
    "\n",
    "### Conclusión:\n",
    "- Al final, resumiremos lo que hemos aprendido resolviendo los ejercicios.\n",
    "- Reflexionaremos sobre cómo Python nos ayuda a solucionar problemas cotidianos.\n",
    "\n",
    "## Formato de entrega del informe en PDF:\n",
    "\n",
    "Debemos exportar nuestro notebook de Jupyter a formato PDF, cumpliendo con las siguientes pautas:\n",
    "\n",
    "### Portada:\n",
    "- Título: \"Primer análisis de casos – Fundamentos de Python\".\n",
    "- Nuestro nombre completo. Juan Araya Peña\n",
    "- Fecha de entrega. 09/10/2025\n",
    "- Curso. Programacion\n",
    "\n",
    "### Cuerpo del informe:\n",
    "- **Introducción:** Hemos resuelto diferentes ejercicios de los cuales vamos a usar diferentes metodos para resolverlos.\n",
    "- **Desarrollo de cada ejercicio:**\n",
    "  - Descripción del problema.\n",
    "  - Entradas, procesos y salidas detallados.\n",
    "  - Capturas de pantalla del código y del resultado de la ejecución.\n",
    "\n",
    "### Conclusión:\n",
    "- Durante la realización de los ejercicios, pude comprender mejor cómo estructurar un programa con entrada, proceso y salida.\n",
    "Aunque al principio algunas operaciones y comparaciones parecían confusas, la práctica me ayudó a superar esas dificultades y a fortalecer mi lógica de programación.\n",
    "\n",
    "## Lista de ejercicios (Seleccionemos 4):\n",
    "\n",
    "1. Calcular el área de un triángulo a partir de la base y altura ingresadas.\n",
    "2. Convertir una cantidad de dólares a colones.\n",
    "3. Convertir grados centígrados a Fahrenheit.\n",
    "4. Mostrar cuántos segundos tiene un lustro.\n",
    "5. Calcular el tiempo que le toma a la luz viajar del sol a Marte.\n",
    "6. Calcular cuántas vueltas da una llanta en 1 km.\n",
    "7. Calcular la longitud de la sombra de un edificio de 20 metros.\n",
    "8. Comparar si la edad ingresada por dos usuarios es la misma.\n",
    "9. Calcular cuántos meses han transcurrido desde nuestra fecha de nacimiento.\n",
    "10. Calcular el promedio de un alumno en 5 materias.\n",
    "\n",
    "## Proceso de entrega:\n",
    "1. Resolveremos 4 de los ejercicios propuestos en un notebook de.\n",
    "2. Exportaremos el notebook a PDF siguiendo el formato establecido.\n",
    "3. Subiremos el PDF y el archivo de notebook (.ipynb) a la plataforma antes de la fecha límite.\n"
   ]
  },
  {
   "cell_type": "markdown",
   "metadata": {},
   "source": [
    "# Problema #1\n",
    "\n",
    "### Calcular el área de un triángulo a partir de su base y altura usando la fórmula.\n",
    "\n",
    "## Entrada: \n",
    "base triangulo\n",
    "\n",
    "altura triangulo\n",
    "\n",
    "## Proceso:\n",
    "\n",
    "area = (base * altura) / 2\n",
    "\n",
    "## Salida:\n",
    "\n",
    "mostrar el área del triángulo"
   ]
  },
  {
   "cell_type": "code",
   "execution_count": 3,
   "metadata": {
    "colab": {
     "base_uri": "https://localhost:8080/"
    },
    "executionInfo": {
     "elapsed": 10485,
     "status": "ok",
     "timestamp": 1712064323417,
     "user": {
      "displayName": "Andrés Mena Abarca",
      "userId": "07418092259593836578"
     },
     "user_tz": 360
    },
    "id": "n3rOsUESDeTs",
    "outputId": "1cd40ed7-f1d2-4b89-bca5-696418df0021"
   },
   "outputs": [
    {
     "name": "stdout",
     "output_type": "stream",
     "text": [
      "El area del triangulo es : 100.0\n"
     ]
    }
   ],
   "source": [
    "# Código solución aqui\n",
    "# entrada\n",
    "base = float(input('Ingrese la base del triangulo: '))\n",
    "altura = float(input('Ingrese la altura del triangulo: '))\n",
    "\n",
    "#proceso\n",
    "area = (base * altura) / 2\n",
    "\n",
    "# salida\n",
    "print(f'El area del triangulo es :', area)"
   ]
  },
  {
   "cell_type": "markdown",
   "metadata": {},
   "source": [
    "# Problema #2\n",
    "\n",
    "### Definir problema: Convertir dólares a colones\n",
    "\n",
    "## Entrada:\n",
    "Cantidad en dólares\n",
    "\n",
    "Tipo de cambio\n",
    "\n",
    "\n",
    "## Proceso:\n",
    "\n",
    "colones = dolares * tipo cambio\n",
    "\n",
    "## Salida:\n",
    "Mostrar el resultado en colones."
   ]
  },
  {
   "cell_type": "code",
   "execution_count": 4,
   "metadata": {},
   "outputs": [
    {
     "name": "stdout",
     "output_type": "stream",
     "text": [
      "100.0 dólares equivalen a 49800.0 colones\n"
     ]
    }
   ],
   "source": [
    "# Código solucción aqui\n",
    "# entrada\n",
    "dolares = float(input(\"Ingrese la cantidad de dólares: \"))\n",
    "tipo_cambio = float(input(\"Ingrese el tipo de cambio (colones por dólar): \"))\n",
    "\n",
    "#proceso\n",
    "colones = dolares * tipo_cambio\n",
    "\n",
    "#salida\n",
    "print(f\"{dolares} dólares equivalen a {colones} colones\")"
   ]
  },
  {
   "cell_type": "markdown",
   "metadata": {},
   "source": [
    "# Problema #3\n",
    "\n",
    "### Definir problema: Calcular el promedio de un alumno en 5 materias\n",
    "\n",
    "## Entrada:\n",
    "nota1\n",
    "nota2\n",
    "nota3\n",
    "nota4\n",
    "\n",
    "## Proceso:\n",
    "promedio = (nota1 + nota2 + nota3 + nota4 + nota5) / 5\n",
    "## Salida:\n",
    "Promedio"
   ]
  },
  {
   "cell_type": "code",
   "execution_count": 1,
   "metadata": {},
   "outputs": [
    {
     "name": "stdout",
     "output_type": "stream",
     "text": [
      "El promedio es: 83.4\n"
     ]
    }
   ],
   "source": [
    "# Código solucción aqui\n",
    "# entrada\n",
    "nota1 = float(input(\"Ingrese nota 1: \"))\n",
    "nota2 = float(input(\"Ingrese nota 2: \"))\n",
    "nota3 = float(input(\"Ingrese nota 3: \"))\n",
    "nota4 = float(input(\"Ingrese nota 4: \"))\n",
    "nota5 = float(input(\"Ingrese nota 5: \"))\n",
    "\n",
    "# proceso \n",
    "promedio = (nota1 + nota2 + nota3 + nota4 + nota5) / 5\n",
    "\n",
    "# salida\n",
    "print(\"El promedio es:\", promedio)"
   ]
  },
  {
   "cell_type": "markdown",
   "metadata": {},
   "source": [
    "# Problema #4\n",
    "\n",
    "### Definir problema: Comparar si la edad ingresada por dos usuarios es la misma\n",
    "\n",
    "## Entrada:\n",
    "Edad del primer usuario\n",
    "\n",
    "Edad del segundo usuario\n",
    "\n",
    "## Proceso:\n",
    "Verificar si ambas edades son iguales\n",
    "\n",
    "\n",
    "\n",
    "## Salida:\n",
    "Mostrar si las edades son iguales o diferentes."
   ]
  },
  {
   "cell_type": "code",
   "execution_count": 3,
   "metadata": {},
   "outputs": [
    {
     "name": "stdout",
     "output_type": "stream",
     "text": [
      "Las edades son diferentes.\n"
     ]
    }
   ],
   "source": [
    "# Código solucción aqui\n",
    "\n",
    "#entrada\n",
    "edad1 = int(input(\"Ingrese la edad del primer usuario: \"))\n",
    "edad2 = int(input(\"Ingrese la edad del segundo usuario: \"))\n",
    "\n",
    "# proceso \n",
    "iguales = edad1 == edad2\n",
    "\n",
    "# salida\n",
    "if iguales:\n",
    "    print(\"Las edades son iguales.\")\n",
    "else:\n",
    "    print(\"Las edades son diferentes.\")"
   ]
  }
 ],
 "metadata": {
  "colab": {
   "provenance": []
  },
  "kernelspec": {
   "display_name": "Python 3",
   "name": "python3"
  },
  "language_info": {
   "codemirror_mode": {
    "name": "ipython",
    "version": 3
   },
   "file_extension": ".py",
   "mimetype": "text/x-python",
   "name": "python",
   "nbconvert_exporter": "python",
   "pygments_lexer": "ipython3",
   "version": "3.13.7"
  }
 },
 "nbformat": 4,
 "nbformat_minor": 0
}
